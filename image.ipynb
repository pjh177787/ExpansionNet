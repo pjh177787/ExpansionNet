{
 "cells": [
  {
   "cell_type": "code",
   "execution_count": null,
   "id": "cea1b197-e42e-4819-9398-99ac33a5fb4c",
   "metadata": {},
   "outputs": [],
   "source": [
    "import os \n",
    "\n",
    "os.listdir("
   ]
  }
 ],
 "metadata": {
  "kernelspec": {
   "display_name": "Python 3 (ipykernel)",
   "language": "python",
   "name": "python3"
  },
  "language_info": {
   "codemirror_mode": {
    "name": "ipython",
    "version": 3
   },
   "file_extension": ".py",
   "mimetype": "text/x-python",
   "name": "python",
   "nbconvert_exporter": "python",
   "pygments_lexer": "ipython3",
   "version": "3.8.18"
  }
 },
 "nbformat": 4,
 "nbformat_minor": 5
}
